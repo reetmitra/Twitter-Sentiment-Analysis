{
 "cells": [
  {
   "cell_type": "code",
   "execution_count": 1,
   "metadata": {},
   "outputs": [
    {
     "name": "stdout",
     "output_type": "stream",
     "text": [
      "Feature engineering completed and data saved.\n"
     ]
    }
   ],
   "source": [
    "import pandas as pd\n",
    "import numpy as np\n",
    "from sklearn.feature_extraction.text import TfidfVectorizer\n",
    "from sklearn.model_selection import train_test_split\n",
    "from sklearn.impute import SimpleImputer\n",
    "\n",
    "# Load the preprocessed data\n",
    "df = pd.read_csv('../data/processed/cleaned_tokenized_sentiment140.csv')\n",
    "\n",
    "# Clean and prepare the tokens\n",
    "def clean_tokens(tokens):\n",
    "    if isinstance(tokens, str):\n",
    "        return tokens\n",
    "    elif pd.isna(tokens):\n",
    "        return ''\n",
    "    else:\n",
    "        return ' '.join(str(token) for token in tokens if pd.notna(token))\n",
    "\n",
    "df['cleaned_tokens'] = df['tokens'].apply(clean_tokens)\n",
    "\n",
    "# TF-IDF Vectorization\n",
    "tfidf = TfidfVectorizer(max_features=5000)\n",
    "X = tfidf.fit_transform(df['cleaned_tokens'])\n",
    "\n",
    "# Create additional features\n",
    "df['tweet_length'] = df['cleaned_tokens'].apply(len)\n",
    "\n",
    "# Combine TF-IDF features with additional features\n",
    "X_combined = np.hstack((X.toarray(), df[['tweet_length']].values))\n",
    "\n",
    "# Get the target variable\n",
    "y = df['target'].values\n",
    "\n",
    "# Split the data\n",
    "X_train, X_test, y_train, y_test = train_test_split(X_combined, y, test_size=0.2, random_state=42)\n",
    "\n",
    "# Handle any remaining NaN values\n",
    "imputer = SimpleImputer(strategy='mean')\n",
    "X_train = imputer.fit_transform(X_train)\n",
    "X_test = imputer.transform(X_test)\n",
    "\n",
    "# Save the features and labels\n",
    "np.save('../data/processed/X_train.npy', X_train)\n",
    "np.save('../data/processed/X_test.npy', X_test)\n",
    "np.save('../data/processed/y_train.npy', y_train)\n",
    "np.save('../data/processed/y_test.npy', y_test)\n",
    "\n",
    "print(\"Feature engineering completed and data saved.\")"
   ]
  },
  {
   "cell_type": "code",
   "execution_count": null,
   "metadata": {},
   "outputs": [],
   "source": []
  }
 ],
 "metadata": {
  "kernelspec": {
   "display_name": "Python 3 (ipykernel)",
   "language": "python",
   "name": "python3"
  },
  "language_info": {
   "codemirror_mode": {
    "name": "ipython",
    "version": 3
   },
   "file_extension": ".py",
   "mimetype": "text/x-python",
   "name": "python",
   "nbconvert_exporter": "python",
   "pygments_lexer": "ipython3",
   "version": "3.11.7"
  }
 },
 "nbformat": 4,
 "nbformat_minor": 4
}
