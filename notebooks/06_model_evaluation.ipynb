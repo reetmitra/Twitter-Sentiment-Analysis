{
 "cells": [
  {
   "cell_type": "code",
   "execution_count": 8,
   "metadata": {},
   "outputs": [
    {
     "name": "stdout",
     "output_type": "stream",
     "text": [
      "\n",
      "Results for Logistic Regression:\n",
      "Accuracy: 0.5138\n",
      "Precision: 0.6172\n",
      "Recall: 0.5138\n",
      "F1-score: 0.3756\n",
      "\n",
      "Results for Random Forest:\n",
      "Accuracy: 0.6976\n",
      "Precision: 0.7138\n",
      "Recall: 0.6976\n",
      "F1-score: 0.6917\n",
      "\n",
      "Results for SVM:\n",
      "Accuracy: 0.5013\n",
      "Precision: 0.5438\n",
      "Recall: 0.5013\n",
      "F1-score: 0.3403\n",
      "\n",
      "Results for Naive Bayes:\n",
      "Accuracy: 0.7468\n",
      "Precision: 0.7468\n",
      "Recall: 0.7468\n",
      "F1-score: 0.7467\n",
      "Model evaluation completed.\n"
     ]
    }
   ],
   "source": [
    "import numpy as np\n",
    "import joblib\n",
    "from sklearn.metrics import accuracy_score, precision_score, recall_score, f1_score, confusion_matrix\n",
    "import matplotlib.pyplot as plt\n",
    "import seaborn as sns\n",
    "\n",
    "# Load the test data\n",
    "X_test = np.load('../data/processed/X_test.npy')\n",
    "y_test = np.load('../data/processed/y_test.npy')\n",
    "\n",
    "# Load the models\n",
    "models = {\n",
    "    'Logistic Regression': joblib.load('../models/logistic_regression.joblib'),\n",
    "    'Random Forest': joblib.load('../models/random_forest.joblib'),\n",
    "    'SVM': joblib.load('../models/svm_sgd.joblib'),\n",
    "    'Naive Bayes': joblib.load('../models/naive_bayes.joblib')\n",
    "}\n",
    "\n",
    "# Evaluate each model\n",
    "for name, model in models.items():\n",
    "    y_pred = model.predict(X_test)\n",
    "    \n",
    "    print(f\"\\nResults for {name}:\")\n",
    "    print(f\"Accuracy: {accuracy_score(y_test, y_pred):.4f}\")\n",
    "    print(f\"Precision: {precision_score(y_test, y_pred, average='weighted'):.4f}\")\n",
    "    print(f\"Recall: {recall_score(y_test, y_pred, average='weighted'):.4f}\")\n",
    "    print(f\"F1-score: {f1_score(y_test, y_pred, average='weighted'):.4f}\")\n",
    "    \n",
    "    # Plot confusion matrix\n",
    "    cm = confusion_matrix(y_test, y_pred)\n",
    "    plt.figure(figsize=(10,7))\n",
    "    sns.heatmap(cm, annot=True, fmt='d')\n",
    "    plt.title(f'Confusion Matrix - {name}')\n",
    "    plt.ylabel('Actual')\n",
    "    plt.xlabel('Predicted')\n",
    "    plt.savefig(f'../figures/confusion_matrix_{name.lower().replace(\" \", \"_\")}.png')\n",
    "    plt.close()\n",
    "\n",
    "print(\"Model evaluation completed.\")"
   ]
  },
  {
   "cell_type": "code",
   "execution_count": null,
   "metadata": {},
   "outputs": [],
   "source": []
  }
 ],
 "metadata": {
  "kernelspec": {
   "display_name": "Python 3 (ipykernel)",
   "language": "python",
   "name": "python3"
  },
  "language_info": {
   "codemirror_mode": {
    "name": "ipython",
    "version": 3
   },
   "file_extension": ".py",
   "mimetype": "text/x-python",
   "name": "python",
   "nbconvert_exporter": "python",
   "pygments_lexer": "ipython3",
   "version": "3.11.7"
  }
 },
 "nbformat": 4,
 "nbformat_minor": 4
}
