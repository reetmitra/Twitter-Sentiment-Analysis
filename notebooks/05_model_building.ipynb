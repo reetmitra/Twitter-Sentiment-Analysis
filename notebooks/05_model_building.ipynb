{
 "cells": [
  {
   "cell_type": "code",
   "execution_count": 2,
   "metadata": {},
   "outputs": [
    {
     "name": "stdout",
     "output_type": "stream",
     "text": [
      "Loading data...\n",
      "Scaling features...\n",
      "Training Logistic Regression...\n",
      "Logistic Regression training completed in 7.95 seconds\n",
      "Training Random Forest...\n",
      "Random Forest training completed in 31.72 seconds\n",
      "Training SVM (SGD approximation)...\n",
      "SVM (SGD) training completed in 213.59 seconds\n",
      "Training Naive Bayes...\n",
      "Naive Bayes training completed in 3.32 seconds\n",
      "Model building completed and models saved.\n"
     ]
    }
   ],
   "source": [
    "import numpy as np\n",
    "from sklearn.linear_model import LogisticRegression\n",
    "from sklearn.ensemble import RandomForestClassifier\n",
    "from sklearn.svm import LinearSVC\n",
    "from sklearn.linear_model import SGDClassifier\n",
    "from sklearn.naive_bayes import MultinomialNB\n",
    "from sklearn.preprocessing import StandardScaler\n",
    "import joblib\n",
    "import time\n",
    "\n",
    "# Load the features and labels\n",
    "print(\"Loading data...\")\n",
    "X_train = np.load('../data/processed/X_train.npy')\n",
    "y_train = np.load('../data/processed/y_train.npy')\n",
    "\n",
    "# Scale the features\n",
    "print(\"Scaling features...\")\n",
    "scaler = StandardScaler()\n",
    "X_train_scaled = scaler.fit_transform(X_train)\n",
    "\n",
    "# Save the scaler for later use\n",
    "joblib.dump(scaler, '../models/scaler.joblib')\n",
    "\n",
    "# Logistic Regression\n",
    "print(\"Training Logistic Regression...\")\n",
    "start_time = time.time()\n",
    "lr_model = LogisticRegression(random_state=42, max_iter=1000)\n",
    "lr_model.fit(X_train_scaled, y_train)\n",
    "print(f\"Logistic Regression training completed in {time.time() - start_time:.2f} seconds\")\n",
    "joblib.dump(lr_model, '../models/logistic_regression.joblib')\n",
    "\n",
    "# Random Forest (with further reduced complexity)\n",
    "print(\"Training Random Forest...\")\n",
    "start_time = time.time()\n",
    "rf_model = RandomForestClassifier(\n",
    "    n_estimators=100,  # You can try reducing this, e.g., to 50\n",
    "    max_depth=10,      # Limit the depth of the trees\n",
    "    min_samples_split=20,  # Require more samples to split an internal node\n",
    "    min_samples_leaf=10,   # Require more samples in a leaf\n",
    "    max_features='sqrt',   # Use sqrt(n_features) features in each tree\n",
    "    n_jobs=-1,             # Use all available cores\n",
    "    random_state=42\n",
    ")\n",
    "rf_model.fit(X_train, y_train)  # Note: RF doesn't require scaling\n",
    "print(f\"Random Forest training completed in {time.time() - start_time:.2f} seconds\")\n",
    "joblib.dump(rf_model, '../models/random_forest.joblib')\n",
    "\n",
    "# Support Vector Machine (LinearSVC with reduced complexity)\n",
    "print(\"Training SVM (SGD approximation)...\")\n",
    "start_time = time.time()\n",
    "svm_sgd_model = SGDClassifier(\n",
    "    loss='hinge',  # This makes it approximate SVM\n",
    "    penalty='l2',\n",
    "    alpha=0.0001,  # Equivalent to C in SVM\n",
    "    max_iter=1000,\n",
    "    tol=1e-3,\n",
    "    random_state=42\n",
    ")\n",
    "svm_sgd_model.fit(X_train_scaled, y_train)\n",
    "print(f\"SVM (SGD) training completed in {time.time() - start_time:.2f} seconds\")\n",
    "joblib.dump(svm_sgd_model, '../models/svm_sgd.joblib')\n",
    "\n",
    "# Naive Bayes\n",
    "print(\"Training Naive Bayes...\")\n",
    "start_time = time.time()\n",
    "nb_model = MultinomialNB(alpha=1.0)  # Increase smoothing parameter\n",
    "nb_model.fit(X_train, y_train)  # Using X_train instead of X_train_selected\n",
    "print(f\"Naive Bayes training completed in {time.time() - start_time:.2f} seconds\")\n",
    "joblib.dump(nb_model, '../models/naive_bayes.joblib')\n",
    "\n",
    "print(\"Model building completed and models saved.\")"
   ]
  },
  {
   "cell_type": "code",
   "execution_count": null,
   "metadata": {},
   "outputs": [],
   "source": []
  }
 ],
 "metadata": {
  "kernelspec": {
   "display_name": "Python 3 (ipykernel)",
   "language": "python",
   "name": "python3"
  },
  "language_info": {
   "codemirror_mode": {
    "name": "ipython",
    "version": 3
   },
   "file_extension": ".py",
   "mimetype": "text/x-python",
   "name": "python",
   "nbconvert_exporter": "python",
   "pygments_lexer": "ipython3",
   "version": "3.11.7"
  }
 },
 "nbformat": 4,
 "nbformat_minor": 4
}
